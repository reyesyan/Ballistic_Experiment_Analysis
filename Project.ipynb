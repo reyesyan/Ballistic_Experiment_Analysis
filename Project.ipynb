{
 "cells": [
  {
   "cell_type": "markdown",
   "metadata": {},
   "source": [
    "# DEEP LEARNING OBJECT DETECTION FOR BALLISTIC EXPERIMENT ANALYSIS\n",
    "MECE 687\n",
    "Abraham Reyes Yanes"
   ]
  },
  {
   "cell_type": "markdown",
   "metadata": {},
   "source": [
    "## <span style=\"color:blue\"> Preparing the Environment"
   ]
  },
  {
   "cell_type": "markdown",
   "metadata": {},
   "source": [
    "*Check you installed all the libraries need it. If you install the environment from the .txt file in the repository you should not have any problem.*"
   ]
  },
  {
   "cell_type": "code",
   "execution_count": 1,
   "metadata": {},
   "outputs": [],
   "source": [
    "import cv2 \n",
    "import numpy as np\n",
    "import imutils\n",
    "import time\n",
    "import os\n",
    "import pandas as pd\n",
    "import numpy as np\n",
    "import math\n",
    "import re\n",
    "import random\n",
    "import matplotlib.pyplot as plt\n",
    "%matplotlib inline\n",
    "import seaborn as sns# ; sns.set()\n",
    "from PIL import Image\n",
    "from os import listdir\n",
    "from xml.etree import ElementTree\n",
    "from numpy import zeros\n",
    "from numpy import asarray\n",
    "from numpy import expand_dims\n",
    "from IPython.display import clear_output\n",
    "from datetime import datetime\n",
    "import ipywidgets as widgets\n",
    "from ipyfilechooser import FileChooser"
   ]
  },
  {
   "cell_type": "markdown",
   "metadata": {},
   "source": [
    " ### <span style=\"color:green\"> Checking Mask-RCNN"
   ]
  },
  {
   "cell_type": "markdown",
   "metadata": {},
   "source": [
    "*Here, the prediction part is based in MASK-RCNN framework. Be sure to first clone that repository and install de dependencies.*"
   ]
  },
  {
   "cell_type": "code",
   "execution_count": 2,
   "metadata": {},
   "outputs": [
    {
     "name": "stdout",
     "output_type": "stream",
     "text": [
      "Name: mask-rcnn\n",
      "Version: 2.1\n",
      "Summary: Mask R-CNN for object detection and instance segmentation\n",
      "Home-page: https://github.com/matterport/Mask_RCNN\n",
      "Author: Matterport\n",
      "Author-email: waleed.abdulla@gmail.com\n",
      "License: MIT\n",
      "Location: c:\\users\\ur\\anaconda3\\envs\\python-cvcourse\\lib\\site-packages\\mask_rcnn-2.1-py3.6.egg\n",
      "Requires: \n",
      "Required-by: \n",
      "Note: you may need to restart the kernel to use updated packages.\n"
     ]
    }
   ],
   "source": [
    "pip show mask-rcnn"
   ]
  },
  {
   "cell_type": "code",
   "execution_count": 3,
   "metadata": {},
   "outputs": [
    {
     "name": "stderr",
     "output_type": "stream",
     "text": [
      "Using TensorFlow backend.\n"
     ]
    }
   ],
   "source": [
    "from mrcnn.config import Config\n",
    "from mrcnn.model import MaskRCNN\n",
    "from mrcnn.model import mold_image\n",
    "from mrcnn.utils import Dataset\n",
    "import tensorflow as tf"
   ]
  },
  {
   "cell_type": "code",
   "execution_count": 4,
   "metadata": {},
   "outputs": [],
   "source": [
    "class PredictionConfig(Config):\n",
    "    NAME = \"bullet_cfg\"\n",
    "    NUM_CLASSES = 1 + 1\n",
    "    GPU_COUNT = 1\n",
    "    IMAGES_PER_GPU = 1"
   ]
  },
  {
   "cell_type": "code",
   "execution_count": 5,
   "metadata": {},
   "outputs": [],
   "source": [
    "tf.logging.set_verbosity(tf.logging.ERROR)\n",
    "cfg = PredictionConfig()\n",
    "model = MaskRCNN(mode='inference', model_dir='./', config=cfg)\n",
    "model_path = 'trained_models/box_bullet_2nd.h5'\n",
    "model.load_weights(model_path, by_name=True)"
   ]
  },
  {
   "cell_type": "markdown",
   "metadata": {},
   "source": [
    "## <span style=\"color:blue\"> Extracting Images from video"
   ]
  },
  {
   "cell_type": "markdown",
   "metadata": {},
   "source": [
    "*In case your are re-running this part be sure to rename the previous main folder from past analysis ('Project_Bullet'), otherwise the action will prompt and error since will not be able to create the folder because one with the same name already exist.*"
   ]
  },
  {
   "cell_type": "code",
   "execution_count": 6,
   "metadata": {},
   "outputs": [],
   "source": [
    "dirname_project = 'Project_Bullet'\n",
    "os.mkdir(dirname_project)"
   ]
  },
  {
   "cell_type": "code",
   "execution_count": 7,
   "metadata": {},
   "outputs": [],
   "source": [
    "dirname_frameoutputs = 'Project_Bullet/1_frame_outputs/'\n",
    "os.mkdir(dirname_frameoutputs)"
   ]
  },
  {
   "cell_type": "markdown",
   "metadata": {},
   "source": [
    "*Select here the video to analyze.*"
   ]
  },
  {
   "cell_type": "code",
   "execution_count": 8,
   "metadata": {},
   "outputs": [
    {
     "data": {
      "application/vnd.jupyter.widget-view+json": {
       "model_id": "019ea5aa6f6b4434829d66b460ae327a",
       "version_major": 2,
       "version_minor": 0
      },
      "text/plain": [
       "FileChooser(path='/Users/crahan/FC demo', filename='', show_hidden='False')"
      ]
     },
     "metadata": {},
     "output_type": "display_data"
    }
   ],
   "source": [
    "fc = FileChooser('/Users/crahan/FC demo')\n",
    "display(fc)"
   ]
  },
  {
   "cell_type": "code",
   "execution_count": 9,
   "metadata": {},
   "outputs": [],
   "source": [
    "video=fc.selected"
   ]
  },
  {
   "cell_type": "markdown",
   "metadata": {},
   "source": [
    "*The next cell extract all the frames in your video and save them in a new previous created folder named '1_frame_outputs'*"
   ]
  },
  {
   "cell_type": "code",
   "execution_count": 10,
   "metadata": {},
   "outputs": [
    {
     "name": "stdout",
     "output_type": "stream",
     "text": [
      "0:00:10.305332\n"
     ]
    }
   ],
   "source": [
    "startTime = datetime.now()\n",
    "camera = cv2.VideoCapture(video)\n",
    "length = int(camera.get(cv2.CAP_PROP_FRAME_COUNT))\n",
    "i=1\n",
    "while True:\n",
    "    res, frame = camera.read()\n",
    "    if not res:\n",
    "        False\n",
    "        break\n",
    "    cv2.imwrite(os.path.join(dirname_frameoutputs,'frame_%i.jpg'%i),frame)\n",
    "    i=i+1\n",
    "    if cv2.waitKey(110) & 0xff == 27:\n",
    "        break \n",
    "print(datetime.now() - startTime)"
   ]
  },
  {
   "cell_type": "markdown",
   "metadata": {},
   "source": [
    "*Rename all the frames to the form 'frame_000000'*"
   ]
  },
  {
   "cell_type": "code",
   "execution_count": 11,
   "metadata": {},
   "outputs": [],
   "source": [
    "for filename in os.listdir(dirname_frameoutputs):\n",
    "    prefix, num = filename[:-4].split('_')\n",
    "    num = num.zfill(6)\n",
    "    new_filename = prefix + \"_\" + num + \".jpg\"\n",
    "    os.rename(os.path.join(dirname_frameoutputs, filename), os.path.join(dirname_frameoutputs, new_filename))"
   ]
  },
  {
   "cell_type": "markdown",
   "metadata": {},
   "source": [
    "### <span style=\"color:green\"> Testing the model in one image"
   ]
  },
  {
   "cell_type": "markdown",
   "metadata": {},
   "source": [
    "*Feel free to change the number of the picture 'frame_000020' to check how the model perform in your data.*"
   ]
  },
  {
   "cell_type": "code",
   "execution_count": 12,
   "metadata": {
    "scrolled": true
   },
   "outputs": [
    {
     "name": "stdout",
     "output_type": "stream",
     "text": [
      "454 267 537 323\n"
     ]
    },
    {
     "data": {
      "image/png": "[encoded data removed]",
      "text/plain": [
       "<Figure size 432x288 with 1 Axes>"
      ]
     },
     "metadata": {
      "needs_background": "light"
     },
     "output_type": "display_data"
    }
   ],
   "source": [
    "name = 'frame_000020.jpg'\n",
    "path = os.path.join(dirname_frameoutputs,name)\n",
    "image=plt.imread(path)\n",
    "scaled_image = mold_image(image, cfg)\n",
    "sample = expand_dims(scaled_image, 0)\n",
    "yhat = model.detect(sample, verbose=0)[0]\n",
    "box = yhat['rois']\n",
    "y1, x1, y2, x2 = box[0]\n",
    "width, height = x2 - x1, y2 - y1\n",
    "cv2.rectangle(image,(x1,y1),(x2,y2),(0,255,0),2)\n",
    "plt.imshow(image)\n",
    "plt.axis('off')\n",
    "print(x1,y1,x2,y2)"
   ]
  },
  {
   "cell_type": "markdown",
   "metadata": {},
   "source": [
    "## <span style=\"color:blue\"> Predicting bullet location\n",
    "<p align=\"center\">\n",
    "<img src=\"./images/detection_bullet.JPG\" width=\"200\">\n",
    "</p>"
   ]
  },
  {
   "cell_type": "markdown",
   "metadata": {},
   "source": [
    "*The next cell look for the bullet through all the frames (aprox 20 s per frame). \n",
    "It is advisable to look into the frames previously extracted (Project_Bullet/1_frames_output) and take note of the frame before impact to save time in the next cells. You can indicate the max_frame for the algorithm to look into by input the value in the next cell, in this way the algorithm will stop there and will not waste time in other frames. By default the value of max_frame is 1000 (never reachable) , and need to be keep it like that if you want the algorithm to look into all the frames.*"
   ]
  },
  {
   "cell_type": "code",
   "execution_count": 56,
   "metadata": {},
   "outputs": [],
   "source": [
    "max_frame = 1000"
   ]
  },
  {
   "cell_type": "code",
   "execution_count": 57,
   "metadata": {
    "scrolled": true
   },
   "outputs": [
    {
     "name": "stdout",
     "output_type": "stream",
     "text": [
      "54 found of 59 frames\n",
      "0:24:04.951878\n"
     ]
    }
   ],
   "source": [
    "startTime = datetime.now()\n",
    "path = dirname_frameoutputs\n",
    "list_files=[f for f in os.listdir(path)if os.path.isfile(os.path.join(path, f))]\n",
    "list_files= sorted(list_files)\n",
    "num_files = len(list_files)\n",
    "roi_matrix=np.zeros((num_files,4), dtype=int)\n",
    "i=0\n",
    "found=0\n",
    "for filename in list_files:\n",
    "    image=plt.imread(os.path.join(path, filename))\n",
    "    scaled_image = mold_image(image, cfg)\n",
    "    sample = expand_dims(scaled_image, 0)\n",
    "    yhat = model.detect(sample, verbose=0)[0]\n",
    "    box = yhat['rois']\n",
    "    if not box.size >0:\n",
    "        i=i+1\n",
    "        clear_output()\n",
    "        print(\"{} not found - {}\".format(i,num_files))\n",
    "        continue\n",
    "    y1, x1, y2, x2 = box[0]\n",
    "    width, height = x2 - x1, y2 - y1\n",
    "    roi_matrix[i][0]= x1\n",
    "    roi_matrix[i][1]= y1\n",
    "    roi_matrix[i][2]= width\n",
    "    roi_matrix[i][3]= height\n",
    "    i=i+1\n",
    "    clear_output()\n",
    "    print(\"{} - {}\".format(i,num_files))\n",
    "    found=found+1\n",
    "    if i == num_files:\n",
    "        break\n",
    "    if i == max_frame:\n",
    "        break\n",
    "np.savetxt(os.path.join(dirname_project,\"roi_matrix_predicted.csv\"),roi_matrix, delimiter=\",\")\n",
    "clear_output()\n",
    "print(\"{} found of {} frames\".format(found,num_files))\n",
    "time_detection = datetime.now() - startTime\n",
    "print(datetime.now() - startTime)"
   ]
  },
  {
   "cell_type": "markdown",
   "metadata": {},
   "source": [
    "*We can see in the next cell what are the values predicted (X,Y,Width,Height) in each of the frames (rows). Where 0, means not bullet was found.*"
   ]
  },
  {
   "cell_type": "code",
   "execution_count": 58,
   "metadata": {
    "collapsed": true
   },
   "outputs": [
    {
     "data": {
      "text/plain": [
       "array([[  0,   0,   0,   0],\n",
       "       [707, 278,  13,  26],\n",
       "       [685, 271,  35,  41],\n",
       "       [685, 271,  35,  41],\n",
       "       [656, 274,  64,  37],\n",
       "       [639, 272,  79,  45],\n",
       "       [639, 272,  79,  45],\n",
       "       [606, 278,  91,  38],\n",
       "       [598, 272,  78,  45],\n",
       "       [597, 268,  76,  50],\n",
       "       [572, 270,  83,  47],\n",
       "       [553, 271,  82,  46],\n",
       "       [553, 271,  82,  46],\n",
       "       [531, 271,  83,  45],\n",
       "       [510, 277,  81,  39],\n",
       "       [512, 270,  80,  45],\n",
       "       [494, 270,  78,  45],\n",
       "       [475, 268,  75,  53],\n",
       "       [477, 272,  74,  45],\n",
       "       [454, 267,  83,  56],\n",
       "       [437, 271,  73,  49],\n",
       "       [437, 271,  73,  49],\n",
       "       [405, 274,  83,  45],\n",
       "       [394, 275,  70,  44],\n",
       "       [393, 275,  71,  44],\n",
       "       [369, 275,  85,  45],\n",
       "       [347, 277,  76,  44],\n",
       "       [347, 277,  76,  44],\n",
       "       [326, 276,  92,  46],\n",
       "       [310, 279,  75,  44],\n",
       "       [310, 280,  76,  43],\n",
       "       [286, 277,  75,  46],\n",
       "       [264, 275,  79,  47],\n",
       "       [264, 275,  79,  47],\n",
       "       [237, 275,  82,  48],\n",
       "       [223, 278,  76,  44],\n",
       "       [224, 277,  75,  45],\n",
       "       [203, 276,  85,  47],\n",
       "       [174, 273,  87,  55],\n",
       "       [180, 273,  82,  55],\n",
       "       [160, 281,  77,  45],\n",
       "       [130, 281,  86,  47],\n",
       "       [130, 281,  86,  47],\n",
       "       [113, 283,  77,  45],\n",
       "       [ 90, 285,  84,  39],\n",
       "       [ 98, 286,  73,  36],\n",
       "       [ 76, 283,  72,  46],\n",
       "       [ 52, 284,  80,  44],\n",
       "       [ 50, 284,  82,  44],\n",
       "       [ 35, 283,  71,  48],\n",
       "       [ 10, 286,  84,  43],\n",
       "       [ 11, 286,  83,  43],\n",
       "       [  0, 284,  74,  47],\n",
       "       [  0, 284,  43,  45],\n",
       "       [  0, 284,  42,  45],\n",
       "       [  0,   0,   0,   0],\n",
       "       [  0,   0,   0,   0],\n",
       "       [  0,   0,   0,   0],\n",
       "       [  0,   0,   0,   0]])"
      ]
     },
     "metadata": {},
     "output_type": "display_data"
    }
   ],
   "source": [
    "display(roi_matrix)"
   ]
  },
  {
   "cell_type": "markdown",
   "metadata": {},
   "source": [
    "## <span style=\"color:blue\"> Image Processing"
   ]
  },
  {
   "cell_type": "markdown",
   "metadata": {},
   "source": [
    "### <span style=\"color:green\"> Calculating new ROI's\n",
    "<p align=\"center\">\n",
    "<img src=\"./images/Roi_adjustment.png\" width=\"200\">\n",
    "</p>"
   ]
  },
  {
   "cell_type": "markdown",
   "metadata": {},
   "source": [
    "*In the last cell the roi matrix is saved instead of predicting any time we need to adjust parameters, Therefore the next cell loads the saved csv matrix.*"
   ]
  },
  {
   "cell_type": "code",
   "execution_count": 243,
   "metadata": {},
   "outputs": [
    {
     "data": {
      "text/html": [
       "<div>\n",
       "<style scoped>\n",
       "    .dataframe tbody tr th:only-of-type {\n",
       "        vertical-align: middle;\n",
       "    }\n",
       "\n",
       "    .dataframe tbody tr th {\n",
       "        vertical-align: top;\n",
       "    }\n",
       "\n",
       "    .dataframe thead th {\n",
       "        text-align: right;\n",
       "    }\n",
       "</style>\n",
       "<table border=\"1\" class=\"dataframe\">\n",
       "  <thead>\n",
       "    <tr style=\"text-align: right;\">\n",
       "      <th></th>\n",
       "      <th>X</th>\n",
       "      <th>Y</th>\n",
       "      <th>W</th>\n",
       "      <th>H</th>\n",
       "    </tr>\n",
       "  </thead>\n",
       "  <tbody>\n",
       "    <tr>\n",
       "      <th>0</th>\n",
       "      <td>0</td>\n",
       "      <td>0</td>\n",
       "      <td>0</td>\n",
       "      <td>0</td>\n",
       "    </tr>\n",
       "    <tr>\n",
       "      <th>1</th>\n",
       "      <td>707</td>\n",
       "      <td>278</td>\n",
       "      <td>13</td>\n",
       "      <td>26</td>\n",
       "    </tr>\n",
       "    <tr>\n",
       "      <th>2</th>\n",
       "      <td>685</td>\n",
       "      <td>271</td>\n",
       "      <td>35</td>\n",
       "      <td>41</td>\n",
       "    </tr>\n",
       "    <tr>\n",
       "      <th>3</th>\n",
       "      <td>685</td>\n",
       "      <td>271</td>\n",
       "      <td>35</td>\n",
       "      <td>41</td>\n",
       "    </tr>\n",
       "    <tr>\n",
       "      <th>4</th>\n",
       "      <td>656</td>\n",
       "      <td>274</td>\n",
       "      <td>64</td>\n",
       "      <td>37</td>\n",
       "    </tr>\n",
       "  </tbody>\n",
       "</table>\n",
       "</div>"
      ],
      "text/plain": [
       "     X    Y   W   H\n",
       "0    0    0   0   0\n",
       "1  707  278  13  26\n",
       "2  685  271  35  41\n",
       "3  685  271  35  41\n",
       "4  656  274  64  37"
      ]
     },
     "execution_count": 243,
     "metadata": {},
     "output_type": "execute_result"
    }
   ],
   "source": [
    "roi_data = pd.read_csv(os.path.join(dirname_project, \"roi_matrix_predicted.csv\"),header=None,names=['X', 'Y','W','H']).astype(int)\n",
    "roi_data.head()"
   ]
  },
  {
   "cell_type": "markdown",
   "metadata": {},
   "source": [
    "*Calling an image to get shape.*"
   ]
  },
  {
   "cell_type": "code",
   "execution_count": 244,
   "metadata": {},
   "outputs": [],
   "source": [
    "image = plt.imread(os.path.join(dirname_frameoutputs, \"frame_000001.jpg\"))\n",
    "height,width,channels= image.shape"
   ]
  },
  {
   "cell_type": "markdown",
   "metadata": {},
   "source": [
    "*For the image processing, the bigger the area of the Roi works better when trying to isolate the background from the foreground, then the rois are adjusted.*"
   ]
  },
  {
   "cell_type": "code",
   "execution_count": 245,
   "metadata": {},
   "outputs": [
    {
     "name": "stdout",
     "output_type": "stream",
     "text": [
      "42 roi's of 59 frames\n",
      "0:00:00.117856\n"
     ]
    }
   ],
   "source": [
    "startTime = datetime.now()\n",
    "path = dirname_frameoutputs\n",
    "list_files=[f for f in os.listdir(path)if os.path.isfile(os.path.join(path, f))]\n",
    "num_files = len(list_files)\n",
    "data_analysis = np.full((num_files,11),np.nan,dtype=float) # time,x,y,width,height,length,cx,angle,distance traveled, relative velocity per 2 frames,total velocity\n",
    "i = 0\n",
    "found=0\n",
    "offset_x = 50\n",
    "offset_y = 60\n",
    "for filename in list_files:\n",
    "    x_roi = roi_data['X'][i]\n",
    "    y_roi = roi_data['Y'][i]\n",
    "    w_roi = roi_data['W'][i]\n",
    "    h_roi = roi_data['H'][i]\n",
    "    if  roi_data['W'][i] == 0 :\n",
    "        print(\"{} not found\".format(i))\n",
    "        i=i+1\n",
    "        continue\n",
    "    if w_roi < 60 :\n",
    "        i=i+1\n",
    "        continue\n",
    "    if x_roi + int(w_roi/2) + 2*offset_x >= width:\n",
    "        i=i+1\n",
    "        continue\n",
    "    if x_roi + int(w_roi/2) - offset_x <= 0:\n",
    "        i=i+1\n",
    "        continue\n",
    "    data_analysis[i][1] = x_roi + (int(w_roi/2)) - offset_x\n",
    "    data_analysis[i][2] = y_roi + (int(h_roi/2)) - offset_y\n",
    "    data_analysis[i][3] = 2*offset_x\n",
    "    data_analysis[i][4] = 2*offset_y\n",
    "    clear_output()\n",
    "    print(\"{} - {}\".format(i,num_files))\n",
    "    i=i+1 \n",
    "    found=found+1\n",
    "    if i == num_files:\n",
    "        break\n",
    "clear_output()\n",
    "print(\"{} roi's of {} frames\".format(found,num_files))\n",
    "time_scaling_roi = datetime.now() - startTime\n",
    "print(datetime.now() - startTime)"
   ]
  },
  {
   "cell_type": "markdown",
   "metadata": {},
   "source": [
    "### <span style=\"color:green\"> Creating ROI's"
   ]
  },
  {
   "cell_type": "markdown",
   "metadata": {},
   "source": [
    "*The ROIs are created from the adjusted bounding box previously done.This rois will be need it when drawing the lines and annotations.*"
   ]
  },
  {
   "cell_type": "code",
   "execution_count": 237,
   "metadata": {},
   "outputs": [],
   "source": [
    "dirname_roioutputs = 'Project_Bullet/2_roi_outputs'\n",
    "os.mkdir(dirname_roioutputs)"
   ]
  },
  {
   "cell_type": "code",
   "execution_count": 246,
   "metadata": {},
   "outputs": [
    {
     "name": "stdout",
     "output_type": "stream",
     "text": [
      "42 roi's of 59 frames\n",
      "0:00:00.846907\n"
     ]
    }
   ],
   "source": [
    "startTime = datetime.now()\n",
    "from_path = dirname_frameoutputs\n",
    "dest_path = dirname_roioutputs\n",
    "list_files=[f for f in os.listdir(from_path)if os.path.isfile(os.path.join(from_path, f))]\n",
    "num_files = len(list_files)\n",
    "i = 0\n",
    "found=0\n",
    "for filename in list_files:\n",
    "    # reading image\n",
    "    image = plt.imread(os.path.join(from_path, filename))\n",
    "    prefix, num = filename[:-4].split('_')\n",
    "    position = num\n",
    "    position = int(re.sub(\"^0+\",\"\",position))\n",
    "    _,x1,y1,w,h,_,_,_,_,_,_ = data_analysis[position - 1]\n",
    "  \n",
    "    if  np.isnan(w)  :\n",
    "        print(\"{} not found\".format(i))\n",
    "        clear_output()\n",
    "        i=i+1\n",
    "        continue\n",
    "    roi = image[int(y1):int(y1 + h),int(x1):int(x1 + w)]\n",
    "    new_filename =\"roi\" + \"_\" + num + \".jpg\"\n",
    "    cv2.imwrite(os.path.join(dest_path ,new_filename),roi)\n",
    "    clear_output()\n",
    "    print(\"{} - {}\".format(i,num_files))\n",
    "    i=i+1 \n",
    "    found=found+1\n",
    "    if i == num_files:\n",
    "        break\n",
    "clear_output()\n",
    "print(\"{} roi's of {} frames\".format(found,num_files))\n",
    "time_cropping_roi = datetime.now() - startTime\n",
    "print(datetime.now() - startTime)"
   ]
  },
  {
   "cell_type": "markdown",
   "metadata": {},
   "source": [
    "### <span style=\"color:green\"> Filtering Images\n",
    "<p align=\"center\">\n",
    "<img src=\"./images/Image_processing.png\" width=\"300\">\n",
    "</p>"
   ]
  },
  {
   "cell_type": "code",
   "execution_count": 239,
   "metadata": {},
   "outputs": [],
   "source": [
    "dirname_maskoutputs = 'Project_Bullet/3_mask_outputs'\n",
    "os.mkdir(dirname_maskoutputs)"
   ]
  },
  {
   "cell_type": "code",
   "execution_count": 240,
   "metadata": {},
   "outputs": [],
   "source": [
    "dirname_contoursoutputs = 'Project_Bullet/4_contours_outputs'\n",
    "os.mkdir(dirname_contoursoutputs)"
   ]
  },
  {
   "cell_type": "code",
   "execution_count": 241,
   "metadata": {},
   "outputs": [],
   "source": [
    "dirname_drewoutputs = 'Project_Bullet/5_drew_outputs'\n",
    "os.mkdir(dirname_drewoutputs)"
   ]
  },
  {
   "cell_type": "markdown",
   "metadata": {},
   "source": [
    "### <span style=\"color:green\"> Parameters"
   ]
  },
  {
   "cell_type": "markdown",
   "metadata": {},
   "source": [
    "*Some filters and morphological operations are applied in order to isolate the bullet from the background. The image processing is a challenging part when trying to develop adaptative algorithms that work with differents images. With the purpose of making this code flexible, the filters and morphological operations where parametrized. Varying the values of this parameters will affect/improve the outcome of the processing. In this way, the algorithm could be adapted to different videos without problems*"
   ]
  },
  {
   "cell_type": "raw",
   "metadata": {},
   "source": [
    "GaussianBlur\n",
    "    GaussianBlur( src, dst, Size( i, i ),sigma_{x},sigma_{y})        \n",
    "        src: Source image\n",
    "        dst: Destination image\n",
    "        Size(w, h): The size of the kernel to be used (the neighbors to be considered). w and h have to be odd and positive.\n",
    "        \\sigma_{x}: The standard deviation in x. Writing 0 implies that \\sigma_{x} is calculated using kernel size.\n",
    "        \\sigma_{y}: The standard deviation in y. Writing 0 implies that \\sigma_{y} is calculated using kernel size.\n",
    "\n",
    "Bilateral Filtering\n",
    "    cv2.bilateralFilter( src, dst,d,sigma_{Color},sigma_{Space})\n",
    "        src: Source image\n",
    "        dst: Destination image\n",
    "        d: The diameter of each pixel neighborhood.\n",
    "        \\sigma_{Color}: Standard deviation in the color space.\n",
    "        \\sigma_{Space}: Standard deviation in the coordinate space (in pixel terms)\n",
    "\n",
    "Brigth Correction\n",
    "    bright = np.power(src,gamma)\n",
    "    dest = np.array(bright* 255, dtype = np.uint8)\n",
    "        src: Source image\n",
    "        dst: Destination image\n",
    "        gamma: factor to multiply image (usually 1/8)\n",
    "Canny edges\n",
    "    Canny(source, detected_edges, lowThreshold, lowThreshold, kernel_size );\n",
    "        detected_edges: Source image, grayscale\n",
    "        lowThreshold: The value entered by the user moving the Trackbar\n",
    "        highThreshold: Set in the program as three times the lower threshold (following Canny’s recommendation)\n",
    "        kernel_size: We defined it to be 3 (the size of the Sobel kernel to be used internally)"
   ]
  },
  {
   "cell_type": "markdown",
   "metadata": {},
   "source": [
    "*The parameters are the following, the suggestion is start with the proposed values and check how the testing of the filters works. In case that improvement is need it, please read the documentation of the functions and vary the values at your convenience in the next cell*"
   ]
  },
  {
   "cell_type": "code",
   "execution_count": 233,
   "metadata": {},
   "outputs": [],
   "source": [
    "### DONT CHANGE ANY VALUE IN THIS CELL, THIS ARE THE PREDIFINED VALUES\n",
    "global n_gaussian,bilateral_diameter,bright_gamma,canny_sigma,n_gradient,n_dilating,f_closing,n_closing,it_erosion,n_erosion,f_smooth,n_smooth,low_thresh,high_thresh \n",
    "# Gaussian Blur\n",
    "n_gaussian = 3\n",
    "# Bilateral Blur\n",
    "bilateral_diameter = 12\n",
    "# Bright Correction\n",
    "bright_gamma = 8                             \n",
    "# Canny Detection\n",
    "canny_sigma = 2.2\n",
    "# Gradient \n",
    "n_gradient = 6\n",
    "# Dilating\n",
    "n_dilating = 3\n",
    "# Clossing\n",
    "f_closing = 12\n",
    "n_closing = 10\n",
    "# Erosion\n",
    "it_erosion = 1\n",
    "n_erosion = 1\n",
    "# Smoothing\n",
    "f_smooth = 10\n",
    "n_smooth = 4\n",
    "# Threshoold\n",
    "low_thresh = 127\n",
    "high_thresh = 255"
   ]
  },
  {
   "cell_type": "markdown",
   "metadata": {},
   "source": [
    "*Widgets to vary the values, you can always re-set the predifined values*"
   ]
  },
  {
   "cell_type": "code",
   "execution_count": 22,
   "metadata": {
    "scrolled": false
   },
   "outputs": [
    {
     "data": {
      "application/vnd.jupyter.widget-view+json": {
       "model_id": "002bbb49136942b380c94971a04eb099",
       "version_major": 2,
       "version_minor": 0
      },
      "text/plain": [
       "Label(value='Vary the values at your convenience, to set the values press set in the next cell')"
      ]
     },
     "metadata": {},
     "output_type": "display_data"
    },
    {
     "data": {
      "application/vnd.jupyter.widget-view+json": {
       "model_id": "1519a8e2ca1a4991b93f443fe0a88d85",
       "version_major": 2,
       "version_minor": 0
      },
      "text/plain": [
       "IntSlider(value=3, description='N Gaussian:', max=15, step=2)"
      ]
     },
     "metadata": {},
     "output_type": "display_data"
    },
    {
     "data": {
      "application/vnd.jupyter.widget-view+json": {
       "model_id": "9d8912ba768f4bc0b13ed67a77d699d9",
       "version_major": 2,
       "version_minor": 0
      },
      "text/plain": [
       "IntSlider(value=12, description='D Bilateral:', max=20, min=8)"
      ]
     },
     "metadata": {},
     "output_type": "display_data"
    },
    {
     "data": {
      "application/vnd.jupyter.widget-view+json": {
       "model_id": "14c1eb59b2a84ff98e3d90c6849f6ce9",
       "version_major": 2,
       "version_minor": 0
      },
      "text/plain": [
       "IntSlider(value=8, description='G Brightness:', max=20, min=6)"
      ]
     },
     "metadata": {},
     "output_type": "display_data"
    },
    {
     "data": {
      "application/vnd.jupyter.widget-view+json": {
       "model_id": "63c786e3e30346138dc153121896cc9e",
       "version_major": 2,
       "version_minor": 0
      },
      "text/plain": [
       "FloatSlider(value=2.2, description='S Canny:', max=3.0, min=0.5)"
      ]
     },
     "metadata": {},
     "output_type": "display_data"
    },
    {
     "data": {
      "application/vnd.jupyter.widget-view+json": {
       "model_id": "0b30531c1b71428d865fda2a644aecb0",
       "version_major": 2,
       "version_minor": 0
      },
      "text/plain": [
       "IntSlider(value=6, description='N Gradient:', max=10, min=2)"
      ]
     },
     "metadata": {},
     "output_type": "display_data"
    },
    {
     "data": {
      "application/vnd.jupyter.widget-view+json": {
       "model_id": "76318731a298451b839d7dbaed00fcc9",
       "version_major": 2,
       "version_minor": 0
      },
      "text/plain": [
       "IntSlider(value=3, description='N Dilatation:', max=9, min=1)"
      ]
     },
     "metadata": {},
     "output_type": "display_data"
    },
    {
     "data": {
      "application/vnd.jupyter.widget-view+json": {
       "model_id": "40a29f74f8a845e5ade1a086f3efbd80",
       "version_major": 2,
       "version_minor": 0
      },
      "text/plain": [
       "IntSlider(value=12, description='F Closing:', max=20, min=8)"
      ]
     },
     "metadata": {},
     "output_type": "display_data"
    },
    {
     "data": {
      "application/vnd.jupyter.widget-view+json": {
       "model_id": "961d0bd1294141c9a2b9d7c61f2ad0cb",
       "version_major": 2,
       "version_minor": 0
      },
      "text/plain": [
       "IntSlider(value=10, description='N Closing:', max=12, min=2)"
      ]
     },
     "metadata": {},
     "output_type": "display_data"
    },
    {
     "data": {
      "application/vnd.jupyter.widget-view+json": {
       "model_id": "8d1cd4409fc84fdaab4d2f59f919e3bf",
       "version_major": 2,
       "version_minor": 0
      },
      "text/plain": [
       "IntSlider(value=1, description='IT Erosion:', max=6, min=1)"
      ]
     },
     "metadata": {},
     "output_type": "display_data"
    },
    {
     "data": {
      "application/vnd.jupyter.widget-view+json": {
       "model_id": "c994111bac38415485219abaa3653246",
       "version_major": 2,
       "version_minor": 0
      },
      "text/plain": [
       "IntSlider(value=1, description='N Erosion:', max=6, min=1)"
      ]
     },
     "metadata": {},
     "output_type": "display_data"
    },
    {
     "data": {
      "application/vnd.jupyter.widget-view+json": {
       "model_id": "ce33e5b4d7474cfbba2b79485132b162",
       "version_major": 2,
       "version_minor": 0
      },
      "text/plain": [
       "IntSlider(value=10, description='F Smooth:', max=16, min=6)"
      ]
     },
     "metadata": {},
     "output_type": "display_data"
    },
    {
     "data": {
      "application/vnd.jupyter.widget-view+json": {
       "model_id": "078ad0ea99224aedbe3b5b3355c52d49",
       "version_major": 2,
       "version_minor": 0
      },
      "text/plain": [
       "IntSlider(value=4, description='N Smooth:', max=8, min=2)"
      ]
     },
     "metadata": {},
     "output_type": "display_data"
    },
    {
     "data": {
      "application/vnd.jupyter.widget-view+json": {
       "model_id": "f584555859d34375b6769bcd9e3d6c80",
       "version_major": 2,
       "version_minor": 0
      },
      "text/plain": [
       "IntRangeSlider(value=(127, 255), description='Threshoold:', max=255)"
      ]
     },
     "metadata": {},
     "output_type": "display_data"
    }
   ],
   "source": [
    "caption = widgets.Label(value='Vary the values at your convenience, to set the values press set in the next cell')\n",
    "ngaussian_updated = widgets.IntSlider(value=n_gaussian,min=0,max=15,step=2,description='N Gaussian:')\n",
    "dbilateral_updated = widgets.IntSlider(value=bilateral_diameter,min=8,max=20,step=1,description='D Bilateral:')\n",
    "gbright_updated = widgets.IntSlider(value=bright_gamma,min=6,max=20,step=1,description='G Brightness:')\n",
    "scanny_updated = widgets.FloatSlider(value=canny_sigma,min=.5,max=3,step=.1,description='S Canny:')\n",
    "ngradient_updated = widgets.IntSlider(value=n_gradient,min=2,max=10,step=1,description='N Gradient:')\n",
    "ndilatation_updated = widgets.IntSlider(value=n_dilating,min=1,max=9,step=1,description='N Dilatation:')\n",
    "fclosing_updated = widgets.IntSlider(value=f_closing,min=8,max=20,step=1,description='F Closing:')\n",
    "nclosing_updated = widgets.IntSlider(value=n_closing,min=2,max=12,step=1,description='N Closing:')\n",
    "iterosion_updated = widgets.IntSlider(value=it_erosion,min=1,max=6,step=1,description='IT Erosion:')\n",
    "nerosion_updated = widgets.IntSlider(value=n_erosion,min=1,max=6,step=1,description='N Erosion:')\n",
    "fsmooth_updated = widgets.IntSlider(value=f_smooth,min=6,max=16,step=1,description='F Smooth:')\n",
    "nsmooth_updated = widgets.IntSlider(value=n_smooth,min=2,max=8,step=1,description='N Smooth:')\n",
    "threshoold_updated = widgets.IntRangeSlider(value=[low_thresh,high_thresh],min=0,max=255,step=1,description='Threshoold:')\n",
    "output = widgets.Output()\n",
    "display(caption,ngaussian_updated,dbilateral_updated,gbright_updated,scanny_updated,ngradient_updated,ndilatation_updated,\n",
    "        fclosing_updated,nclosing_updated,iterosion_updated,nerosion_updated,fsmooth_updated,nsmooth_updated,threshoold_updated)"
   ]
  },
  {
   "cell_type": "code",
   "execution_count": 23,
   "metadata": {},
   "outputs": [
    {
     "data": {
      "application/vnd.jupyter.widget-view+json": {
       "model_id": "2826697ededc46f5bc4a252328f5b8c3",
       "version_major": 2,
       "version_minor": 0
      },
      "text/plain": [
       "Button(description='Update Variables', style=ButtonStyle())"
      ]
     },
     "metadata": {},
     "output_type": "display_data"
    },
    {
     "data": {
      "application/vnd.jupyter.widget-view+json": {
       "model_id": "9db9fd4f3a164594807bd2ab5d0e9396",
       "version_major": 2,
       "version_minor": 0
      },
      "text/plain": [
       "Output()"
      ]
     },
     "metadata": {},
     "output_type": "display_data"
    },
    {
     "data": {
      "application/vnd.jupyter.widget-view+json": {
       "model_id": "9efe40e2c6c44a0d80ee083732b4001b",
       "version_major": 2,
       "version_minor": 0
      },
      "text/plain": [
       "Button(description='Reset Variables', style=ButtonStyle())"
      ]
     },
     "metadata": {},
     "output_type": "display_data"
    },
    {
     "data": {
      "application/vnd.jupyter.widget-view+json": {
       "model_id": "b5f0fab2f3d4454788ffbeb77279157e",
       "version_major": 2,
       "version_minor": 0
      },
      "text/plain": [
       "Output()"
      ]
     },
     "metadata": {},
     "output_type": "display_data"
    }
   ],
   "source": [
    "def update_variables(b):\n",
    "    global n_gaussian,bilateral_diameter,bright_gamma,canny_sigma,n_gradient,n_dilating,f_closing,n_closing,it_erosion,n_erosion,f_smooth,n_smooth,low_thresh,high_thresh \n",
    "    with output:\n",
    "        n_gaussian = ngaussian_updated.value\n",
    "        bilateral_diameter = dbilateral_updated.value\n",
    "        bright_gamma = gbright_updated.value                       \n",
    "        canny_sigma = scanny_updated.value\n",
    "        n_gradient = ngradient_updated.value\n",
    "        n_dilating = ndilatation_updated.value\n",
    "        f_closing = fclosing_updated.value\n",
    "        n_closing = nclosing_updated.value\n",
    "        it_erosion = iterosion_updated.value\n",
    "        n_erosion = nerosion_updated.value\n",
    "        f_smooth = fsmooth_updated.value\n",
    "        n_smooth = nsmooth_updated.value\n",
    "        low_thresh = threshoold_updated.value[0]\n",
    "        high_thresh = threshoold_updated.value[1]\n",
    "        return n_gaussian,bilateral_diameter,bright_gamma,canny_sigma,n_gradient,n_dilating,f_closing,n_closing,it_erosion,n_erosion,f_smooth,n_smooth,low_thresh,high_thresh \n",
    "\n",
    "def restore_variables(b):\n",
    "    global n_gaussian,bilateral_diameter,bright_gamma,canny_sigma,n_gradient,n_dilating,f_closing,n_closing,it_erosion,n_erosion,f_smooth,n_smooth,low_thresh,high_thresh \n",
    "    with output_2:\n",
    "        n_gaussian = 3\n",
    "        bilateral_diameter = 12\n",
    "        bright_gamma = 8                             \n",
    "        canny_sigma = 2.2\n",
    "        n_gradient = 6\n",
    "        n_dilating = 3\n",
    "        f_closing = 12\n",
    "        n_closing = 10\n",
    "        it_erosion = 1\n",
    "        n_erosion = 1\n",
    "        f_smooth = 10\n",
    "        n_smooth = 4\n",
    "        low_thresh = 127\n",
    "        high_thresh = 255\n",
    "        return n_gaussian,bilateral_diameter,bright_gamma,canny_sigma,n_gradient,n_dilating,f_closing,n_closing,it_erosion,n_erosion,f_smooth,n_smooth,low_thresh,high_thresh \n",
    "\n",
    "button_update = widgets.Button(description='Update Variables')\n",
    "output = widgets.Output()\n",
    "button_reset = widgets.Button(description='Reset Variables')\n",
    "output_2 = widgets.Output()\n",
    "display(button_update,output,button_reset,output_2)\n",
    "button_update.on_click(update_variables)\n",
    "button_reset.on_click(restore_variables)"
   ]
  },
  {
   "cell_type": "markdown",
   "metadata": {},
   "source": [
    "### <span style=\"color:green\"> Testing Filters (5 random images)"
   ]
  },
  {
   "cell_type": "markdown",
   "metadata": {},
   "source": [
    "*Here, the values of the parameters are tested with 5 random ROI's, you can always go back, vary the values and Update them again to see how that changes the outcome. The purpose of this cell is to guarantee a good filter application in order to calculate an accurate contour from the Threshoold image.*"
   ]
  },
  {
   "cell_type": "code",
   "execution_count": 24,
   "metadata": {},
   "outputs": [
    {
     "name": "stdout",
     "output_type": "stream",
     "text": [
      "['roi_000033.jpg', 'roi_000052.jpg', 'roi_000026.jpg', 'roi_000016.jpg', 'roi_000028.jpg']\n"
     ]
    },
    {
     "data": {
      "image/png": "[encoded data removed]",
      "text/plain": [
       "<Figure size 1080x1080 with 50 Axes>"
      ]
     },
     "metadata": {
      "needs_background": "light"
     },
     "output_type": "display_data"
    }
   ],
   "source": [
    "startTime = datetime.now()\n",
    "from_path = dirname_roioutputs\n",
    "list_files= [f for f in os.listdir(from_path)if os.path.isfile(os.path.join(from_path, f))]\n",
    "random.shuffle(list_files)\n",
    "list_files = list_files[0:5]\n",
    "num_files = len(list_files)\n",
    "fig, axs = plt.subplots(5,10,figsize=(15,15))\n",
    "i = 0\n",
    "for filename in list_files:\n",
    "    \n",
    "    image = cv2.imread(os.path.join(from_path,filename))\n",
    "    image = cv2.cvtColor(image, cv2.COLOR_BGR2RGB)\n",
    "    axs[i, 0].imshow(image,cmap ='gray')\n",
    "    axs[i, 0].set_title('Original')\n",
    "    axs[i, 0].set_axis_off()\n",
    "    \n",
    "    bilateral_stdcolor = bilateral_diameter*2\n",
    "    bilateral_stdspace = bilateral_diameter/2\n",
    "    roi_blur = cv2.bilateralFilter(image,bilateral_diameter,bilateral_stdcolor,bilateral_stdspace)\n",
    "    axs[i, 1].imshow(roi_blur,cmap ='gray')\n",
    "    axs[i, 1].set_title('Bilateral')\n",
    "    axs[i, 1].set_axis_off()\n",
    "\n",
    "    roi_bright = np.power(roi_blur,1/bright_gamma)\n",
    "    roi_corrected = np.array(roi_bright*255, dtype = np.uint8)\n",
    "    roi_corrected = cv2.cvtColor(roi_corrected, cv2.COLOR_RGB2GRAY)\n",
    "    axs[i, 2].imshow(roi_corrected,cmap ='gray')\n",
    "    axs[i, 2].set_title('Bright Correction')\n",
    "    axs[i, 2].set_axis_off()\n",
    "\n",
    "    v = np.median(roi_corrected)\n",
    "    lower = int(max(0, (1.0 - canny_sigma) * v))\n",
    "    upper = int(min(255, (1.0 + canny_sigma) * v))\n",
    "    edges = cv2.Canny(roi_corrected, lower, upper)\n",
    "    axs[i, 3].imshow(edges,cmap ='gray')\n",
    "    axs[i, 3].set_title('Canny Edges')\n",
    "    axs[i, 3].set_axis_off()\n",
    "\n",
    "    kernel_g = np.ones((n_gradient,n_gradient),np.uint8)\n",
    "    gradient = cv2.morphologyEx(edges, cv2.MORPH_GRADIENT, kernel_g)\n",
    "    axs[i, 4].imshow(gradient,cmap ='gray')\n",
    "    axs[i, 4].set_title('Gradient')\n",
    "    axs[i, 4].set_axis_off()\n",
    "\n",
    "    kernel_c = np.ones((n_closing,n_closing),np.uint8)*f_closing\n",
    "    closing = cv2.morphologyEx(gradient, cv2.MORPH_CLOSE, kernel_c)\n",
    "    axs[i, 5].imshow(closing,cmap ='gray')\n",
    "    axs[i, 5].set_title('Closing')\n",
    "    axs[i, 5].set_axis_off()\n",
    "\n",
    "    kernel_d = cv2.getStructuringElement(cv2.MORPH_ELLIPSE,(n_dilating,n_dilating))   \n",
    "    dilated = cv2.dilate(closing, kernel_d)\n",
    "    axs[i, 6].imshow(dilated,cmap ='gray')\n",
    "    axs[i, 6].set_title('Dilated')\n",
    "    axs[i, 6].set_axis_off()\n",
    "\n",
    "    kernel_e = np.ones((n_erosion,n_erosion),np.uint8)\n",
    "    erosion = cv2.erode(dilated,kernel_e,iterations = it_erosion)\n",
    "    axs[i, 7].imshow(erosion,cmap ='gray')\n",
    "    axs[i, 7].set_title('Erosion')\n",
    "    axs[i, 7].set_axis_off()\n",
    "\n",
    "    kernel = np.ones((n_smooth,n_smooth),np.float32)/f_smooth\n",
    "    smooth = cv2.filter2D(erosion,-1,kernel)\n",
    "    axs[i, 8].imshow(smooth,cmap ='gray')\n",
    "    axs[i, 8].set_title('Smoothing Edges')\n",
    "    axs[i, 8].set_axis_off()\n",
    "\n",
    "    ret,roi_thresh = cv2.threshold(smooth,low_thresh,high_thresh,cv2.THRESH_BINARY+cv2.THRESH_OTSU)\n",
    "    axs[i, 9].imshow(roi_thresh,cmap ='gray')\n",
    "    axs[i, 9].set_title('Threshoold')\n",
    "    axs[i, 9].set_axis_off()\n",
    "\n",
    "    i=i+1   \n",
    "    if i == num_files +1:\n",
    "        break\n",
    "for ax in axs.flat:\n",
    "    ax.label_outer()\n",
    "\n",
    "print(list_files)\n",
    "plt.show()"
   ]
  },
  {
   "cell_type": "markdown",
   "metadata": {},
   "source": [
    "### <span style=\"color:green\"> Applying Filters (all ROI's) and Calculating Centroid, Area, Angle and Distance travelled"
   ]
  },
  {
   "cell_type": "markdown",
   "metadata": {},
   "source": [
    "*Once the parameters are set, please proceed to apply these filters and operations to all the Roi's. Also, the centroid, area, angle and distance travelled is calculated in the next cell.*"
   ]
  },
  {
   "cell_type": "code",
   "execution_count": 308,
   "metadata": {},
   "outputs": [
    {
     "name": "stdout",
     "output_type": "stream",
     "text": [
      "42 of 42 roi's\n",
      "0:12:10.864264\n"
     ]
    }
   ],
   "source": [
    "from_path = dirname_roioutputs\n",
    "mask_path = dirname_maskoutputs\n",
    "contour_path = dirname_contoursoutputs\n",
    "drew_path = dirname_drewoutputs\n",
    "list_files=[f for f in os.listdir(from_path)if os.path.isfile(os.path.join(from_path, f))]\n",
    "num_files = len(list_files)\n",
    "i = 0\n",
    "for filename in list_files:\n",
    "    image = cv2.imread(os.path.join(from_path, filename))\n",
    "    image = cv2.cvtColor(image, cv2.COLOR_BGR2RGB)\n",
    "###APPLYING FILTERs\n",
    "    #roi_blur = cv2.GaussianBlur(image,(n_gaussian,n_gaussian),0,0)\n",
    "    bilateral_stdcolor = bilateral_diameter*2\n",
    "    bilateral_stdspace = bilateral_diameter/2\n",
    "    roi_blur = cv2.bilateralFilter(image,bilateral_diameter,bilateral_stdcolor,bilateral_stdspace)\n",
    "    # APPLYING BRIGHT CORRECTION\n",
    "    roi_bright = np.power(roi_blur,1/bright_gamma)\n",
    "    roi_corrected = np.array(roi_bright* 255, dtype = np.uint8)\n",
    "    roi_corrected = cv2.cvtColor(roi_corrected, cv2.COLOR_RGB2GRAY)\n",
    "    # Canny edges\n",
    "    v = np.median(roi_corrected)\n",
    "    lower = int(max(0, (1.0 - canny_sigma) * v))\n",
    "    upper = int(min(255, (1.0 + canny_sigma) * v))\n",
    "    edges = cv2.Canny(roi_corrected, lower, upper)\n",
    "    # Gradient to close contour\n",
    "    kernel_g = np.ones((n_gradient,n_gradient),np.uint8)\n",
    "    gradient = cv2.morphologyEx(edges, cv2.MORPH_GRADIENT, kernel_g)\n",
    "    # Clossing to remove internal noise\n",
    "    kernel_c = np.ones((n_closing,n_closing),np.uint8)*f_closing\n",
    "    closing = cv2.morphologyEx(gradient, cv2.MORPH_CLOSE, kernel_c)\n",
    "    # Dilating the edges to strenght edges\n",
    "    kernel_d = cv2.getStructuringElement(cv2.MORPH_ELLIPSE,(n_dilating,n_dilating))\n",
    "    dilated = cv2.dilate(closing, kernel_d)  \n",
    "    #Applying Erosion for smoothing edges\n",
    "    kernel_e = np.ones((n_erosion,n_erosion),np.uint8)\n",
    "    erosion = cv2.erode(dilated,kernel_e,iterations = it_erosion)\n",
    "    #APPLYING SMOOTHING\n",
    "    kernel = np.ones((n_smooth,n_smooth),np.float32)/f_smooth\n",
    "    smooth = cv2.filter2D(erosion,-1,kernel)\n",
    "    # Applying Threshold\n",
    "    ret,roi_thresh = cv2.threshold(smooth,low_thresh,high_thresh,cv2.THRESH_BINARY+cv2.THRESH_OTSU)\n",
    "    # Saving File\n",
    "    prefix, num = filename[:-4].split('_')\n",
    "    position = num\n",
    "    position = int(re.sub(\"^0+\",\"\",position))\n",
    "    new_filename_mask =\"mask\" + \"_\" + num + \".jpg\"\n",
    "    cv2.imwrite(os.path.join(mask_path,new_filename_mask),roi_thresh)\n",
    "### FINDING CONTOURS\n",
    "    contour_img = image.copy()\n",
    "    items = cv2.findContours(roi_thresh, cv2.RETR_EXTERNAL,cv2.CHAIN_APPROX_SIMPLE)\n",
    "    contours = items[0] if len(items) == 2 else items[1]\n",
    "    cv2.drawContours(contour_img,contours,-1, (0, 255, 0), 2) \n",
    "    new_filename_contour =\"contours\" + \"_\" + num + \".jpg\"\n",
    "    cv2.imwrite(os.path.join(contour_path,new_filename_contour),contour_img)\n",
    "    ### GETTING AREA\n",
    "    c = max(contours, key=cv2.contourArea)\n",
    "    M = cv2.moments(c)\n",
    "    area = cv2.contourArea(c)\n",
    "    #data_analysis[position - 1][4]= area\n",
    "### GETTING CENTROID and Bounding Box\n",
    "    # determine the most extreme points along the contour\n",
    "    line_img = image.copy()\n",
    "    extLeft = tuple(c[c[:,:, 0].argmin()][0])\n",
    "    extRight = tuple(c[c[:,:, 0].argmax()][0])\n",
    "    extTop = tuple(c[c[:,:, 1].argmin()][0])\n",
    "    extBot = tuple(c[c[:,:, 1].argmax()][0])\n",
    "    # where extLeft is the farthest point at the left(tip of the bullet)\n",
    "    x_left = extLeft[0]\n",
    "    x_right = extRight[0]\n",
    "    y_bottom = extBot[1]\n",
    "    y_top = extTop[1]\n",
    "    cv2.rectangle(line_img,(x_left,y_bottom),(x_right,y_top),(0,255,0),2)\n",
    "### GETTING LENGTH OF BULLET\n",
    "    length  = abs(x_left - x_right)\n",
    "    data_analysis[position - 1][5]= length\n",
    "    #Calculating centroid of bullet\n",
    "    cX = M[\"m10\"] / M[\"m00\"]\n",
    "    cY = M[\"m01\"] / M[\"m00\"]\n",
    "    centroid= (int(cX),int(cY))\n",
    "    cv2.circle(line_img,centroid,1,(255,165,0),3) \n",
    "    #Saving centroid\n",
    "    _,x1, y1, width, height,_,_,_,_,_,_ = data_analysis[position - 1]\n",
    "    centroid_X_value = cX + x_roi\n",
    "    data_analysis[position - 1][6]= centroid_X_value + x1\n",
    "    #Calculating centroid of bullet nose\n",
    "    a = c[:,0,0]\n",
    "    b = c[:,:,:]\n",
    "    idx = np.argpartition(a,4)\n",
    "    tip=b[idx[:5]]\n",
    "    M_tip = cv2.moments(tip)\n",
    "    cX_tip = M_tip[\"m10\"] / M_tip[\"m00\"]\n",
    "    cY_tip = M_tip[\"m01\"] / M_tip[\"m00\"]\n",
    "    centroid_tip= (int(cX_tip),int(cY_tip))\n",
    "### ANGLE AND DISTANCE TRAVELED\n",
    "    ###Horizontal line \n",
    "    dx_h= (int(cX)-int(cX_tip))\n",
    "    dy_h= int(cY)-int(cY)\n",
    "    dist_hor = math.sqrt(math.pow(dx_h, 2)+math.pow(dy_h, 2))\n",
    "    ###Pitch line\n",
    "    dx_p=(int(cX)-int(cX_tip))\n",
    "    dy_p=((line_img.shape[0]-cY_tip)-(line_img.shape[0]-cY))\n",
    "    dist_pitch = math.sqrt(math.pow(dx_p, 2)+math.pow(dy_p, 2))\n",
    "    ### Angle Calculation\n",
    "    quotient = dist_hor/dist_pitch\n",
    "    angle=np.arccos(quotient)\n",
    "    angle = math.degrees(angle)\n",
    "    data_analysis[position - 1][7] = angle \n",
    "### DRAWING BOUNDING BOX AND LINES\n",
    "    #Extending driven line\n",
    "    m= ((line_img.shape[0]-cY_tip)-(line_img.shape[0]-cY))/(cX_tip-cX)\n",
    "    d= ((line_img.shape[0]-cY_tip)+(-m*cX_tip))\n",
    "    x_value=10\n",
    "    dline_1 = (x_value,line_img.shape[0]-int((m*10)+d))\n",
    "    dline_2 = (line_img.shape[1]-x_value,line_img.shape[0]-int((m*(line_img.shape[1]-10))+d))\n",
    "    cv2.line(line_img,(x_value,int(cY)),(line_img.shape[1]-x_value,int(cY)),(0,0,0),1) ### Reference line\n",
    "    if (np.nanmean(data_analysis[:,7])+10) > angle > (np.nanmean(data_analysis[:,7])-10):\n",
    "        cv2.line(line_img,dline_1,dline_2,(255,0,0),1)                                     ### Pitch line\n",
    "        cv2.circle(line_img,centroid_tip,1,(255,165,0),3)\n",
    "    new_filename_contour =\"lines\" + \"_\" + num + \".jpg\"\n",
    "    cv2.imwrite(os.path.join(drew_path,new_filename_contour),line_img)\n",
    "    ### Distance Travelled Calculation\n",
    "    if i != 0 :\n",
    "        data_analysis[position - 1][8] = abs(data_analysis[position - 2][6] - data_analysis[position - 1][6])      \n",
    "    #Finishing\n",
    "    clear_output()\n",
    "    print(\"{} - {}\".format(i,num_files))\n",
    "    i=i+1 \n",
    "    if i == num_files:\n",
    "        break\n",
    "clear_output()\n",
    "plt.show()\n",
    "print(\"{} of {} roi's\".format(i,num_files))\n",
    "time_filters_operations = datetime.now() - startTime\n",
    "print(datetime.now() - startTime)"
   ]
  },
  {
   "cell_type": "markdown",
   "metadata": {},
   "source": [
    "## <span style=\"color:blue\"> DATA processing"
   ]
  },
  {
   "cell_type": "markdown",
   "metadata": {},
   "source": [
    "### <span style=\"color:green\"> Checking Calculated Values (Centroids and Distance Traveled)"
   ]
  },
  {
   "cell_type": "markdown",
   "metadata": {},
   "source": [
    "*Time elapsed*\n",
    "fps = 50000 or 75000 or 2e6"
   ]
  },
  {
   "cell_type": "code",
   "execution_count": 309,
   "metadata": {},
   "outputs": [],
   "source": [
    "fps=50000"
   ]
  },
  {
   "cell_type": "code",
   "execution_count": 310,
   "metadata": {},
   "outputs": [],
   "source": [
    "i=0\n",
    "while i <= len(data_analysis):\n",
    "    data_analysis[i][0] = i/fps\n",
    "    i=i+1\n",
    "    if i == len(data_analysis):\n",
    "        break"
   ]
  },
  {
   "cell_type": "markdown",
   "metadata": {},
   "source": [
    "*Checking centroids*\n",
    "<p align=\"center\">\n",
    "<img src=\"./images/Centroid_location_over_frames.png\" width=\"300\">\n",
    "</p>"
   ]
  },
  {
   "cell_type": "code",
   "execution_count": 311,
   "metadata": {},
   "outputs": [
    {
     "data": {
      "image/png": "[encoded data removed]",
      "text/plain": [
       "<Figure size 864x576 with 1 Axes>"
      ]
     },
     "metadata": {
      "needs_background": "light"
     },
     "output_type": "display_data"
    }
   ],
   "source": [
    "fig = plt.figure(figsize=(12,8))\n",
    "sns.lineplot(data_analysis[:,0]*1000,data_analysis[:,6])\n",
    "plt.legend(['Cx Location'],fontsize = 20)\n",
    "plt.xlabel('μs',fontsize = 20)\n",
    "plt.ylabel('Pixels in X axis',fontsize = 20)\n",
    "plt.title('Cx Location',fontsize = 20)\n",
    "plt.savefig(os.path.join(dirname_project,'Cx_Location.png'))"
   ]
  },
  {
   "cell_type": "markdown",
   "metadata": {},
   "source": [
    "*Checking the traveled distance*\n",
    "<p align=\"center\">\n",
    "<img src=\"./images/Distance_over_frames.png\" width=\"300\">\n",
    "</p>"
   ]
  },
  {
   "cell_type": "code",
   "execution_count": 312,
   "metadata": {},
   "outputs": [
    {
     "data": {
      "image/png": "[encoded data removed]",
      "text/plain": [
       "<Figure size 864x576 with 1 Axes>"
      ]
     },
     "metadata": {
      "needs_background": "light"
     },
     "output_type": "display_data"
    }
   ],
   "source": [
    "fig = plt.figure(figsize=(12,8))\n",
    "sns.lineplot(data_analysis[:,0]*1000,data_analysis[:,8])\n",
    "plt.legend(['Traveled Distance'],fontsize = 20)\n",
    "plt.xlabel('μs',fontsize = 20)\n",
    "plt.ylabel('Pixels in X axis',fontsize = 20)\n",
    "plt.title('Traveled Distance',fontsize = 20)\n",
    "plt.savefig(os.path.join(dirname_project,'Traveled_Distance_Before.png'))"
   ]
  },
  {
   "cell_type": "markdown",
   "metadata": {},
   "source": [
    "*Standard deviation of the traveled distance*"
   ]
  },
  {
   "cell_type": "code",
   "execution_count": 313,
   "metadata": {},
   "outputs": [
    {
     "data": {
      "text/plain": [
       "9.839413465269885"
      ]
     },
     "execution_count": 313,
     "metadata": {},
     "output_type": "execute_result"
    }
   ],
   "source": [
    "np.nanstd(data_analysis[:,8])"
   ]
  },
  {
   "cell_type": "markdown",
   "metadata": {},
   "source": [
    "*From the last plot we can assume that some error happen in the compilation of the video (repeated frames). We need to take this is account when calculating the velocities since this is related to the time elapsed*"
   ]
  },
  {
   "cell_type": "markdown",
   "metadata": {},
   "source": [
    "*Removing 'repeated' frames , and ploting traveled distance again'"
   ]
  },
  {
   "cell_type": "code",
   "execution_count": 314,
   "metadata": {},
   "outputs": [],
   "source": [
    "i=0\n",
    "while i <= len(data_analysis):\n",
    "    if data_analysis[i,8] < np.nanmean(data_analysis[:,8]) :\n",
    "        data_analysis[i,8] = np.nan\n",
    "        i=i+1\n",
    "        continue\n",
    "    if i == (len(data_analysis)-1):\n",
    "        break\n",
    "    i=i+1"
   ]
  },
  {
   "cell_type": "code",
   "execution_count": 315,
   "metadata": {},
   "outputs": [
    {
     "data": {
      "image/png": "[encoded data removed]",
      "text/plain": [
       "<Figure size 864x576 with 1 Axes>"
      ]
     },
     "metadata": {
      "needs_background": "light"
     },
     "output_type": "display_data"
    }
   ],
   "source": [
    "fig = plt.figure(figsize=(12,8))\n",
    "sns.lineplot(data_analysis[:,0]*1000,data_analysis[:,8])\n",
    "plt.legend(['Traveled Distance'],fontsize = 20)\n",
    "plt.ylim(0,np.nanmax(data_analysis[:,8])+2)  \n",
    "plt.xlabel('μs',fontsize = 20)\n",
    "plt.ylabel('Pixels',fontsize = 20)\n",
    "plt.title('Traveled Distance',fontsize = 20)\n",
    "plt.savefig(os.path.join(dirname_project,'Traveled_Distance.png'))"
   ]
  },
  {
   "cell_type": "markdown",
   "metadata": {},
   "source": [
    "Standard Deviation of the traveled distance"
   ]
  },
  {
   "cell_type": "code",
   "execution_count": 316,
   "metadata": {},
   "outputs": [
    {
     "data": {
      "text/plain": [
       "0.22733994358250584"
      ]
     },
     "execution_count": 316,
     "metadata": {},
     "output_type": "execute_result"
    }
   ],
   "source": [
    "data_analysis[1][10] = np.nanstd(data_analysis[:,8])\n",
    "np.nanstd(data_analysis[:,8])"
   ]
  },
  {
   "cell_type": "markdown",
   "metadata": {},
   "source": [
    "*Checking Angles*"
   ]
  },
  {
   "cell_type": "code",
   "execution_count": 317,
   "metadata": {},
   "outputs": [
    {
     "data": {
      "text/plain": [
       "Text(0.5,1,'Yaw Angle')"
      ]
     },
     "execution_count": 317,
     "metadata": {},
     "output_type": "execute_result"
    },
    {
     "data": {
      "image/png": "[encoded data removed]",
      "text/plain": [
       "<Figure size 864x576 with 1 Axes>"
      ]
     },
     "metadata": {
      "needs_background": "light"
     },
     "output_type": "display_data"
    }
   ],
   "source": [
    "fig = plt.figure(figsize=(12,8))\n",
    "sns.lineplot(data_analysis[:,0]*1000,data_analysis[:,7])\n",
    "plt.legend(['Yaw Angle'],fontsize = 20)\n",
    "plt.xlabel('μs',fontsize = 20)\n",
    "plt.ylabel('Degres',fontsize = 20)\n",
    "plt.title('Yaw Angle',fontsize = 20)"
   ]
  },
  {
   "cell_type": "code",
   "execution_count": 318,
   "metadata": {},
   "outputs": [],
   "source": [
    "i=0\n",
    "while i <= len(data_analysis):\n",
    "    if data_analysis[i,7] > np.nanmean(data_analysis[:,7]) :\n",
    "        data_analysis[i,7] = np.nan\n",
    "        i=i+1\n",
    "        continue\n",
    "    if i == (len(data_analysis)-1):\n",
    "        break\n",
    "    i=i+1"
   ]
  },
  {
   "cell_type": "code",
   "execution_count": 319,
   "metadata": {},
   "outputs": [
    {
     "data": {
      "image/png": "[encoded data removed]",
      "text/plain": [
       "<Figure size 864x576 with 1 Axes>"
      ]
     },
     "metadata": {
      "needs_background": "light"
     },
     "output_type": "display_data"
    }
   ],
   "source": [
    "fig = plt.figure(figsize=(12,8))\n",
    "sns.lineplot(data_analysis[:,0]*1000,data_analysis[:,7])\n",
    "plt.ylim(np.nanmax(data_analysis[:,7])-30,np.nanmax(data_analysis[:,7])+30) \n",
    "plt.legend(['Yaw Angle'],fontsize = 20)\n",
    "plt.xlabel('μs',fontsize = 20)\n",
    "plt.ylabel('Degres',fontsize = 20)\n",
    "plt.title('Yaw Angle',fontsize = 20)\n",
    "plt.savefig(os.path.join(dirname_project,'Yaw_Angle_Corrected.png'))"
   ]
  },
  {
   "cell_type": "code",
   "execution_count": 320,
   "metadata": {},
   "outputs": [
    {
     "data": {
      "text/plain": [
       "2.3375625819278656"
      ]
     },
     "execution_count": 320,
     "metadata": {},
     "output_type": "execute_result"
    }
   ],
   "source": [
    "data_analysis[2][10] = np.nanstd(data_analysis[:,7])\n",
    "np.nanstd(data_analysis[:,7])"
   ]
  },
  {
   "cell_type": "markdown",
   "metadata": {},
   "source": [
    "### <span style=\"color:green\"> Relative Accumulative Velocity\n",
    "<p align=\"center\">\n",
    "<img src=\"./images/Accumulative_Relative _Velocity.png\" width=\"300\">\n",
    "</p>"
   ]
  },
  {
   "cell_type": "markdown",
   "metadata": {},
   "source": [
    "bullet_lenght = .02083 m for 9mm bullet"
   ]
  },
  {
   "cell_type": "code",
   "execution_count": 216,
   "metadata": {},
   "outputs": [],
   "source": [
    "bullet_length=.02063"
   ]
  },
  {
   "cell_type": "code",
   "execution_count": 264,
   "metadata": {},
   "outputs": [
    {
     "name": "stdout",
     "output_type": "stream",
     "text": [
      "0:00:00.002117\n"
     ]
    }
   ],
   "source": [
    "startTime = datetime.now()\n",
    "i=0\n",
    "while i <= (len(data_analysis)-1):\n",
    "    if np.isnan(data_analysis[i,8]):\n",
    "        i=i+1\n",
    "        continue\n",
    "    average_length_pixels= np.nanmean(data_analysis[:,5])\n",
    "    pixel_m = bullet_length/average_length_pixels\n",
    "    start_value= np.nanmax(data_analysis[:,6])\n",
    "    current_value = data_analysis[i,6]\n",
    "    traveled_pixels =start_value-current_value\n",
    "    traveled_frames = np.count_nonzero(~np.isnan(data_analysis[0:i,8]))+1  \n",
    "    traveled_seconds = traveled_frames*(1/fps)\n",
    "    relative_velocity = (pixel_m*traveled_pixels)/ traveled_seconds\n",
    "    data_analysis[i][9] = relative_velocity\n",
    "    if i == (len(data_analysis)-1):\n",
    "        break\n",
    "    i=i+1\n",
    "time_relative_velocity = datetime.now() - startTime\n",
    "print(datetime.now() - startTime)"
   ]
  },
  {
   "cell_type": "markdown",
   "metadata": {},
   "source": [
    "### <span style=\"color:green\">Total Relative Velocity\n",
    "\n",
    "<p align=\"center\">\n",
    "<img src=\"./images/Total_Relative_Velocity.png\" width=\"300\">\n",
    "</p>"
   ]
  },
  {
   "cell_type": "code",
   "execution_count": 265,
   "metadata": {},
   "outputs": [
    {
     "name": "stdout",
     "output_type": "stream",
     "text": [
      "Bullet Lenght in pixels = 53.785714285714285 pixels\n",
      "pixel_m = 0.0003835590969455511 m\n",
      "Frames travelled = 27 frames\n",
      "Seconds travelled = 0.00054 seconds\n",
      "Total Relative Velocity = 398.2609476064959 m/s\n",
      "0:00:00.002474\n"
     ]
    }
   ],
   "source": [
    "startTime = datetime.now()\n",
    "average_length_pixels= np.nanmean(data_analysis[:,5])\n",
    "pixel_m = bullet_length/average_length_pixels\n",
    "start_value= np.nanmax(data_analysis[:,6])\n",
    "end_value = np.nanmin(data_analysis[:,6])\n",
    "traveled_pixels =start_value-end_value\n",
    "traveled_frames = np.count_nonzero(~np.isnan(data_analysis[:,8]))\n",
    "traveled_seconds = traveled_frames*(1/fps)\n",
    "total_relative_velocity = (pixel_m*traveled_pixels)/ traveled_seconds\n",
    "data_analysis[0][10] = total_relative_velocity\n",
    "print('Bullet Lenght in pixels = {0} '.format(average_length_pixels) + 'pixels')\n",
    "print('pixel_m = {0} '.format(pixel_m) + 'm')\n",
    "print('Frames travelled = {0} '.format(traveled_frames) + 'frames')\n",
    "print('Seconds travelled = {0} '.format(traveled_seconds) + 'seconds')\n",
    "print('Total Relative Velocity = {0} '.format(total_relative_velocity) + 'm/s')\n",
    "time_total_relative_velocity = datetime.now() - startTime\n",
    "print(datetime.now() - startTime)"
   ]
  },
  {
   "cell_type": "code",
   "execution_count": 321,
   "metadata": {},
   "outputs": [],
   "source": [
    "np.savetxt(os.path.join(dirname_project,\"data_analysis.csv\"),data_analysis, delimiter=\",\",header='TIME,X,Y,WIDTH,HEIGHT,LENGHT,CX,ANGLE,TRAVELED DISTANCE,RELATIVE VELOCITY,TOTAL RELATIVE VELOCITY')"
   ]
  },
  {
   "cell_type": "markdown",
   "metadata": {},
   "source": [
    "### <span style=\"color:blue\"> Annotating Frames and Exporting"
   ]
  },
  {
   "cell_type": "markdown",
   "metadata": {},
   "source": [
    "### <span style=\"color:green\"> Exporting to final frame"
   ]
  },
  {
   "cell_type": "code",
   "execution_count": 267,
   "metadata": {},
   "outputs": [],
   "source": [
    "dirname_annotated = 'Project_Bullet/6_annotated'\n",
    "os.mkdir(dirname_annotated)"
   ]
  },
  {
   "cell_type": "code",
   "execution_count": 268,
   "metadata": {},
   "outputs": [
    {
     "name": "stdout",
     "output_type": "stream",
     "text": [
      "0:00:02.410177\n"
     ]
    }
   ],
   "source": [
    "startTime = datetime.now()\n",
    "from_path = dirname_frameoutputs\n",
    "drew_path =  dirname_drewoutputs\n",
    "dest_path = dirname_annotated\n",
    "list_files=[f for f in os.listdir(from_path)if os.path.isfile(os.path.join(from_path, f))]\n",
    "num_files = len(list_files)\n",
    "### Defining values for letters\n",
    "font= cv2.FONT_HERSHEY_SIMPLEX\n",
    "i = 0\n",
    "for filename in list_files:\n",
    "    # reading image\n",
    "    image = plt.imread(os.path.join(from_path, filename))\n",
    "    image = image.copy()\n",
    "    prefix, num = filename[:-4].split('_')\n",
    "    position = num\n",
    "    position = int(re.sub(\"^0+\",\"\",position))\n",
    "    new_filename =\"annotated\" + \"_\" + num + \".jpg\"\n",
    "    if np.isnan(data_analysis[position - 1,4]) :\n",
    "        cv2.imwrite(os.path.join(dest_path ,new_filename),image)\n",
    "        i=i+1 \n",
    "        continue\n",
    "    t,x1,y1,w,h,l,cx,an,dt,rv,_ = data_analysis[position - 1] # x,y,width,height,length,cx,angle,distance traveled, relative velocity per 2 frames\n",
    "    roi = plt.imread(os.path.join(drew_path, 'lines_'+ num+'.jpg'))\n",
    "    image[int(y1):int(y1 + h),int(x1):int(x1 + w)] = roi\n",
    "    try:\n",
    "        cv2.putText(image,'Angle : {0:.2f}'.format(an) +' Degrees',(20,240),font,.5,(0, 0, 255),1)\n",
    "        cv2.putText(image,'Rv: {0:.2f}'.format(rv) + ' m/s',(20,270),font,.5,(0, 0, 255),1)\n",
    "    except Exception:\n",
    "        pass\n",
    "    cv2.putText(image,'Total Relative velocity : {0:.2f}'.format(data_analysis[0,10]) + ' m/s',(180,400),font,.6,(255, 0, 0),1)\n",
    "    cv2.imwrite(os.path.join(dest_path ,new_filename),image)\n",
    "    i=i+1\n",
    "    if i == num_files:\n",
    "        break\n",
    "time_final_frame = datetime.now() - startTime\n",
    "print(datetime.now() - startTime)"
   ]
  },
  {
   "cell_type": "markdown",
   "metadata": {},
   "source": [
    "### <span style=\"color:green\">Saving a New Video"
   ]
  },
  {
   "cell_type": "code",
   "execution_count": 269,
   "metadata": {},
   "outputs": [],
   "source": [
    "image = plt.imread(os.path.join(dirname_frameoutputs, \"frame_000001.jpg\"))\n",
    "height,width,channels= image.shape"
   ]
  },
  {
   "cell_type": "code",
   "execution_count": 270,
   "metadata": {},
   "outputs": [
    {
     "name": "stdout",
     "output_type": "stream",
     "text": [
      "0:00:12.321555\n"
     ]
    }
   ],
   "source": [
    "startTime = datetime.now()\n",
    "from_path = dirname_annotated\n",
    "dest_path = dirname_project\n",
    "list_files=[f for f in os.listdir(from_path)if os.path.isfile(os.path.join(from_path, f))]\n",
    "list_files=sorted(list_files)\n",
    "num_files = len(list_files)\n",
    "fps = 6\n",
    "filename= 'annotated_video.avi'\n",
    "writer = cv2.VideoWriter(os.path.join(dest_path, filename),cv2.VideoWriter_fourcc(*\"DIVX\"),fps,(width, height))\n",
    "i = 0\n",
    "for filename in list_files:\n",
    "    image = plt.imread(os.path.join(from_path, filename))\n",
    "    time.sleep(1/fps)\n",
    "    if np.isnan(data_analysis[i,8]):\n",
    "        i=i+1\n",
    "        continue\n",
    "    writer.write(image) \n",
    "    i=i+1\n",
    "    if i == num_files:\n",
    "        break\n",
    "writer.release()\n",
    "time_exporting = datetime.now() - startTime\n",
    "print(datetime.now() - startTime)"
   ]
  },
  {
   "cell_type": "markdown",
   "metadata": {},
   "source": [
    "## <span style=\"color:blue\">DATA ANALYSIS"
   ]
  },
  {
   "cell_type": "code",
   "execution_count": 322,
   "metadata": {},
   "outputs": [
    {
     "data": {
      "text/html": [
       "<div>\n",
       "<style scoped>\n",
       "    .dataframe tbody tr th:only-of-type {\n",
       "        vertical-align: middle;\n",
       "    }\n",
       "\n",
       "    .dataframe tbody tr th {\n",
       "        vertical-align: top;\n",
       "    }\n",
       "\n",
       "    .dataframe thead th {\n",
       "        text-align: right;\n",
       "    }\n",
       "</style>\n",
       "<table border=\"1\" class=\"dataframe\">\n",
       "  <thead>\n",
       "    <tr style=\"text-align: right;\">\n",
       "      <th></th>\n",
       "      <th># TIME</th>\n",
       "      <th>X</th>\n",
       "      <th>Y</th>\n",
       "      <th>WIDTH</th>\n",
       "      <th>HEIGHT</th>\n",
       "      <th>LENGHT</th>\n",
       "      <th>CX</th>\n",
       "      <th>ANGLE</th>\n",
       "      <th>TRAVELED DISTANCE</th>\n",
       "      <th>RELATIVE VELOCITY</th>\n",
       "      <th>TOTAL RELATIVE VELOCITY</th>\n",
       "    </tr>\n",
       "  </thead>\n",
       "  <tbody>\n",
       "    <tr>\n",
       "      <th>0</th>\n",
       "      <td>0.00000</td>\n",
       "      <td>NaN</td>\n",
       "      <td>NaN</td>\n",
       "      <td>NaN</td>\n",
       "      <td>NaN</td>\n",
       "      <td>NaN</td>\n",
       "      <td>NaN</td>\n",
       "      <td>NaN</td>\n",
       "      <td>NaN</td>\n",
       "      <td>NaN</td>\n",
       "      <td>398.260948</td>\n",
       "    </tr>\n",
       "    <tr>\n",
       "      <th>1</th>\n",
       "      <td>0.00002</td>\n",
       "      <td>NaN</td>\n",
       "      <td>NaN</td>\n",
       "      <td>NaN</td>\n",
       "      <td>NaN</td>\n",
       "      <td>NaN</td>\n",
       "      <td>NaN</td>\n",
       "      <td>NaN</td>\n",
       "      <td>NaN</td>\n",
       "      <td>NaN</td>\n",
       "      <td>0.227340</td>\n",
       "    </tr>\n",
       "    <tr>\n",
       "      <th>2</th>\n",
       "      <td>0.00004</td>\n",
       "      <td>NaN</td>\n",
       "      <td>NaN</td>\n",
       "      <td>NaN</td>\n",
       "      <td>NaN</td>\n",
       "      <td>NaN</td>\n",
       "      <td>NaN</td>\n",
       "      <td>NaN</td>\n",
       "      <td>NaN</td>\n",
       "      <td>NaN</td>\n",
       "      <td>2.337563</td>\n",
       "    </tr>\n",
       "    <tr>\n",
       "      <th>3</th>\n",
       "      <td>0.00006</td>\n",
       "      <td>NaN</td>\n",
       "      <td>NaN</td>\n",
       "      <td>NaN</td>\n",
       "      <td>NaN</td>\n",
       "      <td>NaN</td>\n",
       "      <td>NaN</td>\n",
       "      <td>NaN</td>\n",
       "      <td>NaN</td>\n",
       "      <td>NaN</td>\n",
       "      <td>NaN</td>\n",
       "    </tr>\n",
       "    <tr>\n",
       "      <th>4</th>\n",
       "      <td>0.00008</td>\n",
       "      <td>NaN</td>\n",
       "      <td>NaN</td>\n",
       "      <td>NaN</td>\n",
       "      <td>NaN</td>\n",
       "      <td>NaN</td>\n",
       "      <td>NaN</td>\n",
       "      <td>NaN</td>\n",
       "      <td>NaN</td>\n",
       "      <td>NaN</td>\n",
       "      <td>NaN</td>\n",
       "    </tr>\n",
       "  </tbody>\n",
       "</table>\n",
       "</div>"
      ],
      "text/plain": [
       "    # TIME   X   Y  WIDTH  HEIGHT  LENGHT  CX  ANGLE  TRAVELED DISTANCE  \\\n",
       "0  0.00000 NaN NaN    NaN     NaN     NaN NaN    NaN                NaN   \n",
       "1  0.00002 NaN NaN    NaN     NaN     NaN NaN    NaN                NaN   \n",
       "2  0.00004 NaN NaN    NaN     NaN     NaN NaN    NaN                NaN   \n",
       "3  0.00006 NaN NaN    NaN     NaN     NaN NaN    NaN                NaN   \n",
       "4  0.00008 NaN NaN    NaN     NaN     NaN NaN    NaN                NaN   \n",
       "\n",
       "   RELATIVE VELOCITY  TOTAL RELATIVE VELOCITY  \n",
       "0                NaN               398.260948  \n",
       "1                NaN                 0.227340  \n",
       "2                NaN                 2.337563  \n",
       "3                NaN                      NaN  \n",
       "4                NaN                      NaN  "
      ]
     },
     "execution_count": 322,
     "metadata": {},
     "output_type": "execute_result"
    }
   ],
   "source": [
    "data_analysis_table = pd.read_csv(os.path.join(dirname_project,'data_analysis.csv'))\n",
    "data_analysis_table.head()"
   ]
  },
  {
   "cell_type": "markdown",
   "metadata": {},
   "source": [
    "### <span style=\"color:green\"> Velocity Plot"
   ]
  },
  {
   "cell_type": "code",
   "execution_count": 272,
   "metadata": {},
   "outputs": [
    {
     "data": {
      "image/png": "[encoded data removed]",
      "text/plain": [
       "<Figure size 864x576 with 1 Axes>"
      ]
     },
     "metadata": {
      "needs_background": "light"
     },
     "output_type": "display_data"
    }
   ],
   "source": [
    "fig = plt.figure(figsize=(12,8))\n",
    "sns.lineplot(data_analysis_table['# TIME']*1000,data_analysis_table['RELATIVE VELOCITY'])\n",
    "sns.lineplot(data_analysis_table['# TIME']*1000,data_analysis_table['RELATIVE VELOCITY'].mean())\n",
    "sns.lineplot(data_analysis_table['# TIME']*1000,data_analysis_table['TOTAL RELATIVE VELOCITY'][0])\n",
    "plt.legend(['Accumulative Relative Velocity','Accumulative Relative Velocity mean','Total Relative Velocity'],fontsize = 20)\n",
    "plt.ylim(np.nanmin(data_analysis_table['RELATIVE VELOCITY'])-20,np.nanmax(data_analysis_table['RELATIVE VELOCITY'])+20)  \n",
    "plt.xlim(.45,1)  \n",
    "plt.xlabel('μs',fontsize = 20)\n",
    "plt.ylabel('m/s',fontsize = 20)\n",
    "plt.title('Velocity',fontsize = 20)\n",
    "plt.savefig(os.path.join(dirname_project,'Velocity.png'))"
   ]
  },
  {
   "cell_type": "markdown",
   "metadata": {},
   "source": [
    "### <span style=\"color:green\"> Angle Plot"
   ]
  },
  {
   "cell_type": "markdown",
   "metadata": {},
   "source": [
    "The calculations for the angle are being improved"
   ]
  },
  {
   "cell_type": "code",
   "execution_count": 339,
   "metadata": {},
   "outputs": [],
   "source": [
    "y_data = data_analysis_table['ANGLE'].values.tolist()"
   ]
  },
  {
   "cell_type": "code",
   "execution_count": 340,
   "metadata": {},
   "outputs": [],
   "source": [
    "y_data = [y_data for y_data in y_data if str(y_data) != 'nan']"
   ]
  },
  {
   "cell_type": "code",
   "execution_count": 344,
   "metadata": {},
   "outputs": [],
   "source": [
    "x_data = range(len(y_data))"
   ]
  },
  {
   "cell_type": "code",
   "execution_count": 348,
   "metadata": {},
   "outputs": [
    {
     "data": {
      "image/png": "[encoded data removed]",
      "text/plain": [
       "<Figure size 864x432 with 1 Axes>"
      ]
     },
     "metadata": {
      "needs_background": "light"
     },
     "output_type": "display_data"
    }
   ],
   "source": [
    "p = np.polyfit(x_data,y_data,10)\n",
    "\n",
    "yfit = np.polyval(p,x_data)\n",
    "\n",
    "fig= plt.figure(figsize=(12,6))\n",
    "#sns.scatterplot(x_data,y_data,alpha = .5)                               ## data\n",
    "sns.lineplot(x_data,yfit,color='orange')                                ## approximation\n",
    "plt.legend(['Yaw Angle'], ncol=1, loc='upper left',fontsize = 20)\n",
    "plt.title('Yaw Angle',fontsize = 20)\n",
    "plt.xlabel('μs')\n",
    "plt.ylabel('Degrees')\n",
    "plt.ylim(np.nanmin(data_analysis_table['ANGLE'])-20,np.nanmax(data_analysis_table['ANGLE'])+20)\n",
    "plt.savefig(os.path.join(dirname_project,'Yaw_Angle_2.png'))"
   ]
  },
  {
   "cell_type": "markdown",
   "metadata": {},
   "source": [
    "### <span style=\"color:green\"> Time Elapsed"
   ]
  },
  {
   "cell_type": "code",
   "execution_count": 326,
   "metadata": {},
   "outputs": [
    {
     "data": {
      "text/html": [
       "<div>\n",
       "<style scoped>\n",
       "    .dataframe tbody tr th:only-of-type {\n",
       "        vertical-align: middle;\n",
       "    }\n",
       "\n",
       "    .dataframe tbody tr th {\n",
       "        vertical-align: top;\n",
       "    }\n",
       "\n",
       "    .dataframe thead th {\n",
       "        text-align: right;\n",
       "    }\n",
       "</style>\n",
       "<table border=\"1\" class=\"dataframe\">\n",
       "  <thead>\n",
       "    <tr style=\"text-align: right;\">\n",
       "      <th></th>\n",
       "      <th>Step</th>\n",
       "      <th>Seconds</th>\n",
       "    </tr>\n",
       "  </thead>\n",
       "  <tbody>\n",
       "    <tr>\n",
       "      <th>0</th>\n",
       "      <td>Detection time</td>\n",
       "      <td>1444.951878</td>\n",
       "    </tr>\n",
       "    <tr>\n",
       "      <th>1</th>\n",
       "      <td>ROI calculation</td>\n",
       "      <td>0.117856</td>\n",
       "    </tr>\n",
       "    <tr>\n",
       "      <th>2</th>\n",
       "      <td>ROI cropping</td>\n",
       "      <td>0.846907</td>\n",
       "    </tr>\n",
       "    <tr>\n",
       "      <th>3</th>\n",
       "      <td>Image processing</td>\n",
       "      <td>730.864264</td>\n",
       "    </tr>\n",
       "    <tr>\n",
       "      <th>4</th>\n",
       "      <td>Calculations</td>\n",
       "      <td>0.004591</td>\n",
       "    </tr>\n",
       "  </tbody>\n",
       "</table>\n",
       "</div>"
      ],
      "text/plain": [
       "               Step      Seconds\n",
       "0    Detection time  1444.951878\n",
       "1   ROI calculation     0.117856\n",
       "2      ROI cropping     0.846907\n",
       "3  Image processing   730.864264\n",
       "4      Calculations     0.004591"
      ]
     },
     "execution_count": 326,
     "metadata": {},
     "output_type": "execute_result"
    }
   ],
   "source": [
    "timing_labels =['Detection time','ROI calculation','ROI cropping','Image processing','Calculations','Exporting']\n",
    "timing_values =[time_detection.total_seconds(),time_scaling_roi.total_seconds(),time_cropping_roi.total_seconds(),time_filters_operations.total_seconds(),time_relative_velocity.total_seconds()+time_total_relative_velocity.total_seconds(),time_final_frame.total_seconds()]\n",
    "times_elapsed = {'Step':timing_labels,'Seconds':timing_values}\n",
    "times_dataframe = pd.DataFrame(times_elapsed)\n",
    "times_dataframe.to_csv(os.path.join(dirname_project,'timing_analysis.csv'),index=False)\n",
    "times_dataframe.head()"
   ]
  }
 ],
 "metadata": {
  "kernelspec": {
   "display_name": "Python 3",
   "language": "python",
   "name": "python3"
  },
  "language_info": {
   "codemirror_mode": {
    "name": "ipython",
    "version": 3
   },
   "file_extension": ".py",
   "mimetype": "text/x-python",
   "name": "python",
   "nbconvert_exporter": "python",
   "pygments_lexer": "ipython3",
   "version": "3.6.6"
  }
 },
 "nbformat": 4,
 "nbformat_minor": 2
}
